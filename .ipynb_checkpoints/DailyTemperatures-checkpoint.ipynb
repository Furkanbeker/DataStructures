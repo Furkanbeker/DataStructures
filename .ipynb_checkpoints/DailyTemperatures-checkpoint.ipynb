{
 "cells": [
  {
   "cell_type": "code",
   "execution_count": 4,
   "id": "1a1501c7",
   "metadata": {},
   "outputs": [],
   "source": [
    "temperatures=[73,74,75,71,69,72,76,73]"
   ]
  },
  {
   "cell_type": "code",
   "execution_count": 9,
   "id": "dfcac8d2",
   "metadata": {},
   "outputs": [],
   "source": [
    "def solution():\n",
    "    \n",
    "    result = [0]*len(temperatures)\n",
    "    myStack = []\n",
    "    \n",
    "    for ix, temperature in enumerate(temperatures):\n",
    "        while myStack and temperature > myStack[-1][0]:\n",
    "            stackTemp , stackIndex = myStack.pop()\n",
    "            result[stackIndex] = ix-stackIndex\n",
    "        myStack.append([temperature,ix])\n",
    "    return result\n",
    "\n",
    "    "
   ]
  },
  {
   "cell_type": "code",
   "execution_count": 10,
   "id": "331eb4f7",
   "metadata": {},
   "outputs": [
    {
     "data": {
      "text/plain": [
       "[1, 1, 4, 2, 1, 1, 0, 0]"
      ]
     },
     "execution_count": 10,
     "metadata": {},
     "output_type": "execute_result"
    }
   ],
   "source": [
    "solution()"
   ]
  },
  {
   "cell_type": "code",
   "execution_count": null,
   "id": "490bf69f",
   "metadata": {},
   "outputs": [],
   "source": []
  }
 ],
 "metadata": {
  "kernelspec": {
   "display_name": "Python 3 (ipykernel)",
   "language": "python",
   "name": "python3"
  },
  "language_info": {
   "codemirror_mode": {
    "name": "ipython",
    "version": 3
   },
   "file_extension": ".py",
   "mimetype": "text/x-python",
   "name": "python",
   "nbconvert_exporter": "python",
   "pygments_lexer": "ipython3",
   "version": "3.9.12"
  }
 },
 "nbformat": 4,
 "nbformat_minor": 5
}
