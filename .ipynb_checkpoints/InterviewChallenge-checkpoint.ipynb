{
 "cells": [
  {
   "cell_type": "code",
   "execution_count": 1,
   "id": "921bd4c6",
   "metadata": {},
   "outputs": [],
   "source": [
    "class MyStack():\n",
    "    \n",
    "    def __init__(self):\n",
    "        self.myQueue = []\n",
    "        \n",
    "    def push(self,x:int) -> None:\n",
    "        self.myQueue.append(x)\n",
    "        \n",
    "    def pop(self) -> int:\n",
    "        for i in range(len(self.myQueue)-1):\n",
    "            self.myQueue.append(self.myQueue.popleft())\n",
    "        return self.myQueue.popleft()\n",
    "            \n",
    "    def top(self) -> int:\n",
    "        return self.myQueue[-1]\n",
    "        \n",
    "    def empty(self) -> bool :\n",
    "        return len(self.myQueue) == 0\n",
    "        \n",
    "        \n",
    "        "
   ]
  }
 ],
 "metadata": {
  "kernelspec": {
   "display_name": "Python 3 (ipykernel)",
   "language": "python",
   "name": "python3"
  },
  "language_info": {
   "codemirror_mode": {
    "name": "ipython",
    "version": 3
   },
   "file_extension": ".py",
   "mimetype": "text/x-python",
   "name": "python",
   "nbconvert_exporter": "python",
   "pygments_lexer": "ipython3",
   "version": "3.9.12"
  }
 },
 "nbformat": 4,
 "nbformat_minor": 5
}
