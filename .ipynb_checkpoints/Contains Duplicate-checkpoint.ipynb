{
 "cells": [
  {
   "cell_type": "code",
   "execution_count": 1,
   "id": "c86ea774",
   "metadata": {},
   "outputs": [],
   "source": [
    "import sys"
   ]
  },
  {
   "cell_type": "code",
   "execution_count": 7,
   "id": "2e20d415",
   "metadata": {},
   "outputs": [
    {
     "name": "stdout",
     "output_type": "stream",
     "text": [
      "Length: 0 Byte: 56\n",
      "Length: 1 Byte: 88\n",
      "Length: 2 Byte: 88\n",
      "Length: 3 Byte: 88\n",
      "Length: 4 Byte: 88\n",
      "Length: 5 Byte: 120\n",
      "Length: 6 Byte: 120\n"
     ]
    }
   ],
   "source": [
    "n = 7\n",
    "myDynamicArray= []\n",
    "\n",
    "for i in range(n):\n",
    "    myLength = len(myDynamicArray)\n",
    "    myByte= sys.getsizeof(myDynamicArray)\n",
    "    print(f\"Length: {myLength} Byte: {myByte}\")\n",
    "    myDynamicArray.append(n)"
   ]
  },
  {
   "cell_type": "code",
   "execution_count": 8,
   "id": "34e77680",
   "metadata": {},
   "outputs": [],
   "source": [
    "#Contains Duplicate"
   ]
  },
  {
   "cell_type": "code",
   "execution_count": 9,
   "id": "5ed7a2e6",
   "metadata": {},
   "outputs": [],
   "source": [
    "#if any value appears at least twice in the array, return true\n",
    "#nums = [1,2,3,1]\n",
    "#output = True\n",
    "\n",
    "#nums =[1,2,3,4]\n",
    "#output = False"
   ]
  },
  {
   "cell_type": "code",
   "execution_count": 20,
   "id": "363a0ce4",
   "metadata": {},
   "outputs": [
    {
     "name": "stdout",
     "output_type": "stream",
     "text": [
      "0 0\n",
      "0 1\n",
      "0 2\n",
      "1 0\n",
      "1 1\n",
      "1 2\n",
      "2 0\n",
      "2 1\n",
      "2 2\n"
     ]
    }
   ],
   "source": [
    "nums = [1,2,1]\n",
    "\n",
    "for i in range(len(nums)):\n",
    "    for j in range(len(nums)):\n",
    "        print(i,j)\n",
    "#time O(n^2)\n",
    "#space O(1)"
   ]
  },
  {
   "cell_type": "code",
   "execution_count": 28,
   "id": "94220103",
   "metadata": {},
   "outputs": [],
   "source": [
    "nums = [1,2,5,2]\n",
    "def solution1():\n",
    "    hashSet= set()\n",
    "    for num in nums:\n",
    "        if num in hashSet:\n",
    "            return True\n",
    "        hashSet.add(num)\n",
    "    return False"
   ]
  },
  {
   "cell_type": "code",
   "execution_count": 29,
   "id": "954d8092",
   "metadata": {},
   "outputs": [
    {
     "data": {
      "text/plain": [
       "True"
      ]
     },
     "execution_count": 29,
     "metadata": {},
     "output_type": "execute_result"
    }
   ],
   "source": [
    "solution()"
   ]
  },
  {
   "cell_type": "code",
   "execution_count": 32,
   "id": "913bdf72",
   "metadata": {},
   "outputs": [],
   "source": [
    "def solution2():\n",
    "    return len(nums) != len(set(nums))"
   ]
  },
  {
   "cell_type": "code",
   "execution_count": 33,
   "id": "672d4794",
   "metadata": {},
   "outputs": [
    {
     "data": {
      "text/plain": [
       "True"
      ]
     },
     "execution_count": 33,
     "metadata": {},
     "output_type": "execute_result"
    }
   ],
   "source": [
    "solution2()"
   ]
  },
  {
   "cell_type": "code",
   "execution_count": null,
   "id": "56a29708",
   "metadata": {},
   "outputs": [],
   "source": []
  }
 ],
 "metadata": {
  "kernelspec": {
   "display_name": "Python 3 (ipykernel)",
   "language": "python",
   "name": "python3"
  },
  "language_info": {
   "codemirror_mode": {
    "name": "ipython",
    "version": 3
   },
   "file_extension": ".py",
   "mimetype": "text/x-python",
   "name": "python",
   "nbconvert_exporter": "python",
   "pygments_lexer": "ipython3",
   "version": "3.9.12"
  }
 },
 "nbformat": 4,
 "nbformat_minor": 5
}
