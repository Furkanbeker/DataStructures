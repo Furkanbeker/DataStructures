{
 "cells": [
  {
   "cell_type": "code",
   "execution_count": 52,
   "id": "356cb776",
   "metadata": {},
   "outputs": [
    {
     "data": {
      "text/plain": [
       "'\\n\"Stack & Queue & Deque.ipynb\"\\nLast in first out\\nBase first Top last\\n\\n'"
      ]
     },
     "execution_count": 52,
     "metadata": {},
     "output_type": "execute_result"
    }
   ],
   "source": [
    "\"\"\"\n",
    "\"Stack & Queue & Deque.ipynb\"\n",
    "Last in first out\n",
    "Base first Top last\n",
    "\n",
    "\"\"\""
   ]
  },
  {
   "cell_type": "code",
   "execution_count": 53,
   "id": "d528c480",
   "metadata": {},
   "outputs": [
    {
     "data": {
      "text/plain": [
       "'\\nQUEUQ\\nFirs in first out\\nFront first Rear last\\n'"
      ]
     },
     "execution_count": 53,
     "metadata": {},
     "output_type": "execute_result"
    }
   ],
   "source": [
    "\"\"\"\n",
    "QUEUQ\n",
    "Firs in first out\n",
    "Front first Rear last\n",
    "\"\"\""
   ]
  },
  {
   "cell_type": "code",
   "execution_count": 54,
   "id": "452d50f0",
   "metadata": {},
   "outputs": [
    {
     "data": {
      "text/plain": [
       "'\\nDEQUE\\nOrdered\\nFront and Rear\\n'"
      ]
     },
     "execution_count": 54,
     "metadata": {},
     "output_type": "execute_result"
    }
   ],
   "source": [
    "\"\"\"\n",
    "DEQUE\n",
    "Ordered\n",
    "Front and Rear\n",
    "\"\"\""
   ]
  },
  {
   "cell_type": "code",
   "execution_count": 4,
   "id": "c56a4c8b",
   "metadata": {},
   "outputs": [],
   "source": [
    "from queue import LifoQueue"
   ]
  },
  {
   "cell_type": "code",
   "execution_count": 5,
   "id": "b44586d3",
   "metadata": {},
   "outputs": [],
   "source": [
    "lifoqueue = LifoQueue()\n",
    "lifoqueue.put(1)\n",
    "lifoqueue.put(10)\n",
    "lifoqueue.put(100)"
   ]
  },
  {
   "cell_type": "code",
   "execution_count": 6,
   "id": "53b2ad56",
   "metadata": {},
   "outputs": [
    {
     "data": {
      "text/plain": [
       "100"
      ]
     },
     "execution_count": 6,
     "metadata": {},
     "output_type": "execute_result"
    }
   ],
   "source": [
    "lifoqueue.get()"
   ]
  },
  {
   "cell_type": "code",
   "execution_count": 7,
   "id": "80f11ca2",
   "metadata": {},
   "outputs": [
    {
     "data": {
      "text/plain": [
       "10"
      ]
     },
     "execution_count": 7,
     "metadata": {},
     "output_type": "execute_result"
    }
   ],
   "source": [
    "lifoqueue.get()"
   ]
  },
  {
   "cell_type": "code",
   "execution_count": 8,
   "id": "9235f500",
   "metadata": {},
   "outputs": [],
   "source": [
    "from queue import Queue"
   ]
  },
  {
   "cell_type": "code",
   "execution_count": 24,
   "id": "b87c6579",
   "metadata": {},
   "outputs": [],
   "source": [
    "myQueue = Queue()"
   ]
  },
  {
   "cell_type": "code",
   "execution_count": 36,
   "id": "f8f520c7",
   "metadata": {},
   "outputs": [],
   "source": [
    "myQueue.put(1)\n",
    "myQueue.put(10)\n",
    "myQueue.put(100)"
   ]
  },
  {
   "cell_type": "code",
   "execution_count": 37,
   "id": "11e15cef",
   "metadata": {},
   "outputs": [
    {
     "data": {
      "text/plain": [
       "1"
      ]
     },
     "execution_count": 37,
     "metadata": {},
     "output_type": "execute_result"
    }
   ],
   "source": [
    "myQueue.get()"
   ]
  },
  {
   "cell_type": "code",
   "execution_count": 38,
   "id": "c4fd516f",
   "metadata": {},
   "outputs": [
    {
     "data": {
      "text/plain": [
       "10"
      ]
     },
     "execution_count": 38,
     "metadata": {},
     "output_type": "execute_result"
    }
   ],
   "source": [
    "myQueue.get()"
   ]
  },
  {
   "cell_type": "code",
   "execution_count": 39,
   "id": "aa114c2e",
   "metadata": {},
   "outputs": [
    {
     "data": {
      "text/plain": [
       "100"
      ]
     },
     "execution_count": 39,
     "metadata": {},
     "output_type": "execute_result"
    }
   ],
   "source": [
    "myQueue.get()"
   ]
  },
  {
   "cell_type": "code",
   "execution_count": 40,
   "id": "af719d39",
   "metadata": {},
   "outputs": [],
   "source": [
    "from collections import deque"
   ]
  },
  {
   "cell_type": "code",
   "execution_count": 41,
   "id": "908e19d7",
   "metadata": {},
   "outputs": [],
   "source": [
    "myDeque = deque()"
   ]
  },
  {
   "cell_type": "code",
   "execution_count": 42,
   "id": "b8b7804f",
   "metadata": {},
   "outputs": [],
   "source": [
    "myDeque.append(10)"
   ]
  },
  {
   "cell_type": "code",
   "execution_count": 43,
   "id": "79aeb4f3",
   "metadata": {},
   "outputs": [],
   "source": [
    "myDeque.append(100)"
   ]
  },
  {
   "cell_type": "code",
   "execution_count": 47,
   "id": "fd73299f",
   "metadata": {},
   "outputs": [],
   "source": [
    "myDeque.appendleft(40)"
   ]
  },
  {
   "cell_type": "code",
   "execution_count": 48,
   "id": "9e161af9",
   "metadata": {},
   "outputs": [
    {
     "data": {
      "text/plain": [
       "deque([40, 10, 100])"
      ]
     },
     "execution_count": 48,
     "metadata": {},
     "output_type": "execute_result"
    }
   ],
   "source": [
    "myDeque"
   ]
  },
  {
   "cell_type": "code",
   "execution_count": 49,
   "id": "ccbf4017",
   "metadata": {},
   "outputs": [
    {
     "data": {
      "text/plain": [
       "100"
      ]
     },
     "execution_count": 49,
     "metadata": {},
     "output_type": "execute_result"
    }
   ],
   "source": [
    "myDeque.pop()"
   ]
  },
  {
   "cell_type": "code",
   "execution_count": 50,
   "id": "945234cf",
   "metadata": {},
   "outputs": [
    {
     "data": {
      "text/plain": [
       "40"
      ]
     },
     "execution_count": 50,
     "metadata": {},
     "output_type": "execute_result"
    }
   ],
   "source": [
    "myDeque.popleft()"
   ]
  },
  {
   "cell_type": "code",
   "execution_count": 51,
   "id": "ad8ef25a",
   "metadata": {},
   "outputs": [
    {
     "data": {
      "text/plain": [
       "deque([10])"
      ]
     },
     "execution_count": 51,
     "metadata": {},
     "output_type": "execute_result"
    }
   ],
   "source": [
    "myDeque"
   ]
  },
  {
   "cell_type": "code",
   "execution_count": null,
   "id": "534c516d",
   "metadata": {},
   "outputs": [],
   "source": []
  }
 ],
 "metadata": {
  "kernelspec": {
   "display_name": "Python 3 (ipykernel)",
   "language": "python",
   "name": "python3"
  },
  "language_info": {
   "codemirror_mode": {
    "name": "ipython",
    "version": 3
   },
   "file_extension": ".py",
   "mimetype": "text/x-python",
   "name": "python",
   "nbconvert_exporter": "python",
   "pygments_lexer": "ipython3",
   "version": "3.9.12"
  }
 },
 "nbformat": 4,
 "nbformat_minor": 5
}
