{
 "cells": [
  {
   "cell_type": "code",
   "execution_count": 1,
   "id": "3482293f",
   "metadata": {},
   "outputs": [],
   "source": [
    "nums = [1,2,3,2,1]"
   ]
  },
  {
   "cell_type": "code",
   "execution_count": 14,
   "id": "7aadf10c",
   "metadata": {},
   "outputs": [],
   "source": [
    "def sol():\n",
    "    if len(nums) == 1:\n",
    "        return True\n",
    "    for i in range(0 , len(nums)):\n",
    "        for k in range(1 , len(nums)):\n",
    "            if nums[i] == nums[k]:\n",
    "                print(nums[i],nums[k])"
   ]
  },
  {
   "cell_type": "code",
   "execution_count": 15,
   "id": "5d755312",
   "metadata": {},
   "outputs": [
    {
     "name": "stdout",
     "output_type": "stream",
     "text": [
      "1 1\n",
      "2 2\n",
      "2 2\n",
      "3 3\n",
      "2 2\n",
      "2 2\n",
      "1 1\n"
     ]
    }
   ],
   "source": [
    "sol()"
   ]
  },
  {
   "cell_type": "code",
   "execution_count": 16,
   "id": "4257cda4",
   "metadata": {},
   "outputs": [],
   "source": [
    "#bit manipulation\n",
    "\n",
    "def singleNum():\n",
    "    myList = [3,1,2,3,2]\n",
    "    \n",
    "    result = 0\n",
    "    \n",
    "    for num in myList:\n",
    "        result = num ^ result\n",
    "    return result"
   ]
  },
  {
   "cell_type": "code",
   "execution_count": 17,
   "id": "7ae16125",
   "metadata": {},
   "outputs": [
    {
     "data": {
      "text/plain": [
       "1"
      ]
     },
     "execution_count": 17,
     "metadata": {},
     "output_type": "execute_result"
    }
   ],
   "source": [
    "singleNum()"
   ]
  },
  {
   "cell_type": "code",
   "execution_count": null,
   "id": "090f7b38",
   "metadata": {},
   "outputs": [],
   "source": []
  }
 ],
 "metadata": {
  "kernelspec": {
   "display_name": "Python 3 (ipykernel)",
   "language": "python",
   "name": "python3"
  },
  "language_info": {
   "codemirror_mode": {
    "name": "ipython",
    "version": 3
   },
   "file_extension": ".py",
   "mimetype": "text/x-python",
   "name": "python",
   "nbconvert_exporter": "python",
   "pygments_lexer": "ipython3",
   "version": "3.9.12"
  }
 },
 "nbformat": 4,
 "nbformat_minor": 5
}
