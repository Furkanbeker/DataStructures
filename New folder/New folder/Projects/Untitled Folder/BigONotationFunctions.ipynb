{
 "cells": [
  {
   "cell_type": "code",
   "execution_count": 1,
   "id": "482b9f84",
   "metadata": {},
   "outputs": [],
   "source": [
    "# Big O Notation -> O()\n",
    "# Time Compexity -> Space Compexity\n",
    "\n",
    "#Brute Force -- > tek tek denemek O(n)\n",
    "\n",
    "\n"
   ]
  },
  {
   "cell_type": "code",
   "execution_count": 2,
   "id": "df03a412",
   "metadata": {},
   "outputs": [],
   "source": [
    "def bigon(n):\n",
    "    for i in range (0,n):\n",
    "        print(i)\n"
   ]
  },
  {
   "cell_type": "code",
   "execution_count": 4,
   "id": "2f97b9e9",
   "metadata": {},
   "outputs": [
    {
     "name": "stdout",
     "output_type": "stream",
     "text": [
      "0\n",
      "1\n",
      "2\n"
     ]
    }
   ],
   "source": [
    "bigon(3)"
   ]
  },
  {
   "cell_type": "code",
   "execution_count": 6,
   "id": "1abbded4",
   "metadata": {},
   "outputs": [],
   "source": [
    "def bigon3(n):\n",
    "    for i in range (0,n):\n",
    "        for j in range(0,n):\n",
    "            for k in range(0,n):\n",
    "                print(i,j,k)"
   ]
  },
  {
   "cell_type": "code",
   "execution_count": 8,
   "id": "21f58618",
   "metadata": {},
   "outputs": [
    {
     "name": "stdout",
     "output_type": "stream",
     "text": [
      "0 0 0\n",
      "0 0 1\n",
      "0 1 0\n",
      "0 1 1\n",
      "1 0 0\n",
      "1 0 1\n",
      "1 1 0\n",
      "1 1 1\n"
     ]
    }
   ],
   "source": [
    "bigon3(2)"
   ]
  },
  {
   "cell_type": "code",
   "execution_count": null,
   "id": "4b001505",
   "metadata": {},
   "outputs": [],
   "source": []
  }
 ],
 "metadata": {
  "kernelspec": {
   "display_name": "Python 3 (ipykernel)",
   "language": "python",
   "name": "python3"
  },
  "language_info": {
   "codemirror_mode": {
    "name": "ipython",
    "version": 3
   },
   "file_extension": ".py",
   "mimetype": "text/x-python",
   "name": "python",
   "nbconvert_exporter": "python",
   "pygments_lexer": "ipython3",
   "version": "3.9.12"
  }
 },
 "nbformat": 4,
 "nbformat_minor": 5
}
