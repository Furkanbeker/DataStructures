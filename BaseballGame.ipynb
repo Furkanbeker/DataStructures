{
 "cells": [
  {
   "cell_type": "code",
   "execution_count": 4,
   "id": "a5276861",
   "metadata": {},
   "outputs": [],
   "source": [
    "myInput = [\"5\",\"2\",\"C\",\"D\",\"+\"]"
   ]
  },
  {
   "cell_type": "code",
   "execution_count": 5,
   "id": "2f372257",
   "metadata": {},
   "outputs": [],
   "source": [
    "def solution():\n",
    "    \n",
    "    myStack = []\n",
    "    \n",
    "    for op in myInput:\n",
    "        if op == \"C\" :\n",
    "            myStack.pop()\n",
    "        elif op == \"+\":\n",
    "            myStack.append(myStack[-1] + myStack[-2])\n",
    "        elif op ==\"D\":\n",
    "            myStack.append(myStack[-1]*2)\n",
    "        else:\n",
    "            myStack.append(int(op))\n",
    "    return sum(myStack)"
   ]
  },
  {
   "cell_type": "code",
   "execution_count": 6,
   "id": "07405e05",
   "metadata": {},
   "outputs": [
    {
     "data": {
      "text/plain": [
       "30"
      ]
     },
     "execution_count": 6,
     "metadata": {},
     "output_type": "execute_result"
    }
   ],
   "source": [
    "solution()"
   ]
  },
  {
   "cell_type": "code",
   "execution_count": null,
   "id": "9bb84382",
   "metadata": {},
   "outputs": [],
   "source": []
  }
 ],
 "metadata": {
  "kernelspec": {
   "display_name": "Python 3 (ipykernel)",
   "language": "python",
   "name": "python3"
  },
  "language_info": {
   "codemirror_mode": {
    "name": "ipython",
    "version": 3
   },
   "file_extension": ".py",
   "mimetype": "text/x-python",
   "name": "python",
   "nbconvert_exporter": "python",
   "pygments_lexer": "ipython3",
   "version": "3.9.12"
  }
 },
 "nbformat": 4,
 "nbformat_minor": 5
}
